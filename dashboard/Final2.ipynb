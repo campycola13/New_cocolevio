{
 "cells": [
  {
   "cell_type": "code",
   "execution_count": 38,
   "id": "06d8b92b-a02e-45b7-a286-ab89670060b3",
   "metadata": {},
   "outputs": [],
   "source": [
    "import numpy as np\n",
    "import pandas as pd\n"
   ]
  },
  {
   "cell_type": "code",
   "execution_count": 45,
   "id": "89bc15a9-318a-43d3-b2a0-200b69727298",
   "metadata": {},
   "outputs": [],
   "source": [
    "df=pd.read_csv('C:\\\\Users\\\\BIT\\\\Downloads\\\\Modified_Jira_Export_Filled.csv')"
   ]
  },
  {
   "cell_type": "code",
   "execution_count": 46,
   "id": "3a1be1dd-2e6b-4de4-b75c-088b465ee0ea",
   "metadata": {},
   "outputs": [
    {
     "data": {
      "text/html": [
       "<div>\n",
       "<style scoped>\n",
       "    .dataframe tbody tr th:only-of-type {\n",
       "        vertical-align: middle;\n",
       "    }\n",
       "\n",
       "    .dataframe tbody tr th {\n",
       "        vertical-align: top;\n",
       "    }\n",
       "\n",
       "    .dataframe thead th {\n",
       "        text-align: right;\n",
       "    }\n",
       "</style>\n",
       "<table border=\"1\" class=\"dataframe\">\n",
       "  <thead>\n",
       "    <tr style=\"text-align: right;\">\n",
       "      <th></th>\n",
       "      <th>Issue key</th>\n",
       "      <th>Issue id</th>\n",
       "      <th>Issue Type</th>\n",
       "      <th>Project name</th>\n",
       "      <th>Project lead</th>\n",
       "      <th>Priority</th>\n",
       "      <th>Assignee</th>\n",
       "      <th>Reporter</th>\n",
       "      <th>Due date</th>\n",
       "      <th>Description</th>\n",
       "      <th>...</th>\n",
       "      <th>Inward issue link (Polaris issue link).1</th>\n",
       "      <th>Inward issue link (Problem/Incident)</th>\n",
       "      <th>Outward issue link (Problem/Incident)</th>\n",
       "      <th>Inward issue link (Relates)</th>\n",
       "      <th>Outward issue link (Relates)</th>\n",
       "      <th>Status Category</th>\n",
       "      <th>Status Category Changed</th>\n",
       "      <th>Unnamed: 36</th>\n",
       "      <th>Unnamed: 37</th>\n",
       "      <th>Created</th>\n",
       "    </tr>\n",
       "  </thead>\n",
       "  <tbody>\n",
       "    <tr>\n",
       "      <th>254</th>\n",
       "      <td>LEVI-1790</td>\n",
       "      <td>24623</td>\n",
       "      <td>Task</td>\n",
       "      <td>Levi</td>\n",
       "      <td>Arun Kumar Saxena</td>\n",
       "      <td>P1</td>\n",
       "      <td>Anand Kumar Chaudhary</td>\n",
       "      <td>Anand Kumar Chaudhary</td>\n",
       "      <td>&lt;function &lt;lambda&gt; at 0x7eee8b9024f0&gt;</td>\n",
       "      <td>NaN</td>\n",
       "      <td>...</td>\n",
       "      <td>NaN</td>\n",
       "      <td>NaN</td>\n",
       "      <td>NaN</td>\n",
       "      <td>NaN</td>\n",
       "      <td>NaN</td>\n",
       "      <td>In Progress</td>\n",
       "      <td>17-02-2025 12:43</td>\n",
       "      <td>NaN</td>\n",
       "      <td>NaN</td>\n",
       "      <td>10-02-2025 17:24</td>\n",
       "    </tr>\n",
       "  </tbody>\n",
       "</table>\n",
       "<p>1 rows × 39 columns</p>\n",
       "</div>"
      ],
      "text/plain": [
       "     Issue key  Issue id Issue Type Project name       Project lead Priority  \\\n",
       "254  LEVI-1790     24623       Task         Levi  Arun Kumar Saxena       P1   \n",
       "\n",
       "                  Assignee               Reporter  \\\n",
       "254  Anand Kumar Chaudhary  Anand Kumar Chaudhary   \n",
       "\n",
       "                                  Due date Description  ...  \\\n",
       "254  <function <lambda> at 0x7eee8b9024f0>         NaN  ...   \n",
       "\n",
       "     Inward issue link (Polaris issue link).1  \\\n",
       "254                                       NaN   \n",
       "\n",
       "     Inward issue link (Problem/Incident)  \\\n",
       "254                                   NaN   \n",
       "\n",
       "     Outward issue link (Problem/Incident) Inward issue link (Relates)  \\\n",
       "254                                    NaN                         NaN   \n",
       "\n",
       "    Outward issue link (Relates) Status Category Status Category Changed  \\\n",
       "254                          NaN     In Progress        17-02-2025 12:43   \n",
       "\n",
       "    Unnamed: 36 Unnamed: 37           Created  \n",
       "254         NaN         NaN  10-02-2025 17:24  \n",
       "\n",
       "[1 rows x 39 columns]"
      ]
     },
     "execution_count": 46,
     "metadata": {},
     "output_type": "execute_result"
    }
   ],
   "source": [
    "df.sample()"
   ]
  },
  {
   "cell_type": "code",
   "execution_count": 48,
   "id": "32430726-294e-4a7d-b6f1-3351b72db72a",
   "metadata": {},
   "outputs": [
    {
     "name": "stdout",
     "output_type": "stream",
     "text": [
      "<class 'pandas.core.frame.DataFrame'>\n",
      "RangeIndex: 2009 entries, 0 to 2008\n",
      "Data columns (total 39 columns):\n",
      " #   Column                                    Non-Null Count  Dtype  \n",
      "---  ------                                    --------------  -----  \n",
      " 0   Issue key                                 2009 non-null   object \n",
      " 1   Issue id                                  2009 non-null   int64  \n",
      " 2   Issue Type                                2009 non-null   object \n",
      " 3   Project name                              2009 non-null   object \n",
      " 4   Project lead                              2009 non-null   object \n",
      " 5   Priority                                  2009 non-null   object \n",
      " 6   Assignee                                  1913 non-null   object \n",
      " 7   Reporter                                  2009 non-null   object \n",
      " 8   Due date                                  2009 non-null   object \n",
      " 9   Description                               1345 non-null   object \n",
      " 10  Original estimate                         1024 non-null   float64\n",
      " 11  Remaining Estimate                        1725 non-null   float64\n",
      " 12  Time Spent                                1660 non-null   float64\n",
      " 13  Inward issue link (Blocks)                6 non-null      object \n",
      " 14  Inward issue link (Blocks).1              3 non-null      object \n",
      " 15  Inward issue link (Blocks).2              2 non-null      object \n",
      " 16  Inward issue link (Blocks).3              1 non-null      object \n",
      " 17  Inward issue link (Blocks).4              1 non-null      object \n",
      " 18  Outward issue link (Blocks)               29 non-null     object \n",
      " 19  Inward issue link (Cloners)               219 non-null    object \n",
      " 20  Inward issue link (Cloners).1             53 non-null     object \n",
      " 21  Inward issue link (Cloners).2             21 non-null     object \n",
      " 22  Inward issue link (Cloners).3             10 non-null     object \n",
      " 23  Inward issue link (Cloners).4             3 non-null      object \n",
      " 24  Inward issue link (Cloners).5             3 non-null      object \n",
      " 25  Inward issue link (Cloners).6             1 non-null      object \n",
      " 26  Inward issue link (Cloners).7             1 non-null      object \n",
      " 27  Outward issue link (Cloners)              312 non-null    object \n",
      " 28  Inward issue link (Polaris issue link)    1 non-null      object \n",
      " 29  Inward issue link (Polaris issue link).1  1 non-null      object \n",
      " 30  Inward issue link (Problem/Incident)      1 non-null      object \n",
      " 31  Outward issue link (Problem/Incident)     1 non-null      object \n",
      " 32  Inward issue link (Relates)               4 non-null      object \n",
      " 33  Outward issue link (Relates)              5 non-null      object \n",
      " 34  Status Category                           2009 non-null   object \n",
      " 35  Status Category Changed                   2009 non-null   object \n",
      " 36  Unnamed: 36                               0 non-null      float64\n",
      " 37  Unnamed: 37                               0 non-null      float64\n",
      " 38  Created                                   2009 non-null   object \n",
      "dtypes: float64(5), int64(1), object(33)\n",
      "memory usage: 612.2+ KB\n"
     ]
    }
   ],
   "source": [
    "df.info()"
   ]
  },
  {
   "cell_type": "code",
   "execution_count": 49,
   "id": "2bc02924-4506-4095-8fe3-0d36403c7e38",
   "metadata": {},
   "outputs": [
    {
     "data": {
      "text/plain": [
       "Index(['Issue key', 'Issue id', 'Issue Type', 'Project name', 'Project lead',\n",
       "       'Priority', 'Assignee', 'Reporter', 'Due date', 'Description',\n",
       "       'Original estimate', 'Remaining Estimate', 'Time Spent',\n",
       "       'Inward issue link (Blocks)', 'Inward issue link (Blocks).1',\n",
       "       'Inward issue link (Blocks).2', 'Inward issue link (Blocks).3',\n",
       "       'Inward issue link (Blocks).4', 'Outward issue link (Blocks)',\n",
       "       'Inward issue link (Cloners)', 'Inward issue link (Cloners).1',\n",
       "       'Inward issue link (Cloners).2', 'Inward issue link (Cloners).3',\n",
       "       'Inward issue link (Cloners).4', 'Inward issue link (Cloners).5',\n",
       "       'Inward issue link (Cloners).6', 'Inward issue link (Cloners).7',\n",
       "       'Outward issue link (Cloners)',\n",
       "       'Inward issue link (Polaris issue link)',\n",
       "       'Inward issue link (Polaris issue link).1',\n",
       "       'Inward issue link (Problem/Incident)',\n",
       "       'Outward issue link (Problem/Incident)', 'Inward issue link (Relates)',\n",
       "       'Outward issue link (Relates)', 'Status Category',\n",
       "       'Status Category Changed', 'Unnamed: 36', 'Unnamed: 37', 'Created'],\n",
       "      dtype='object')"
      ]
     },
     "execution_count": 49,
     "metadata": {},
     "output_type": "execute_result"
    }
   ],
   "source": [
    "df.columns"
   ]
  },
  {
   "cell_type": "code",
   "execution_count": 50,
   "id": "1b0d18d8-c040-4602-af60-065f08184152",
   "metadata": {},
   "outputs": [],
   "source": [
    "inward_issue_columns = [col for col in df.columns if col.startswith(\"Inward issue link (Blocks)\")]"
   ]
  },
  {
   "cell_type": "code",
   "execution_count": 51,
   "id": "cd36b2b6-e49d-4f6a-b14a-20e6a82d6586",
   "metadata": {},
   "outputs": [
    {
     "data": {
      "text/plain": [
       "['Inward issue link (Blocks)',\n",
       " 'Inward issue link (Blocks).1',\n",
       " 'Inward issue link (Blocks).2',\n",
       " 'Inward issue link (Blocks).3',\n",
       " 'Inward issue link (Blocks).4']"
      ]
     },
     "execution_count": 51,
     "metadata": {},
     "output_type": "execute_result"
    }
   ],
   "source": [
    "inward_issue_columns"
   ]
  },
  {
   "cell_type": "code",
   "execution_count": 52,
   "id": "1a522857-0cfc-4c87-98b6-772ef78055e0",
   "metadata": {},
   "outputs": [],
   "source": [
    "df['inward_issue_block'] = df[inward_issue_columns].notnull().any(axis=1).astype(int)"
   ]
  },
  {
   "cell_type": "code",
   "execution_count": 53,
   "id": "f4d85497-1e80-4047-ae84-092fecabf536",
   "metadata": {},
   "outputs": [],
   "source": [
    "inward_issue_columns__cloners= [col for col in df.columns if col.startswith(\"Inward issue link (Cloners)\")]"
   ]
  },
  {
   "cell_type": "code",
   "execution_count": 54,
   "id": "79907c7e-88f2-4ad1-9df4-0ab8ff582318",
   "metadata": {},
   "outputs": [],
   "source": [
    "df['inward_issue_clone'] = df[inward_issue_columns__cloners].notnull().any(axis=1).astype(int)"
   ]
  },
  {
   "cell_type": "code",
   "execution_count": 55,
   "id": "2d696281-35e1-48c6-8f02-0316d51e61ab",
   "metadata": {},
   "outputs": [],
   "source": [
    "inward_issue_columns__polaris= [col for col in df.columns if col.startswith(\"Inward issue link (Polaris issue link)\")]"
   ]
  },
  {
   "cell_type": "code",
   "execution_count": 56,
   "id": "00faa0ec-8a03-4e82-8a95-99cfe8756a0b",
   "metadata": {},
   "outputs": [
    {
     "name": "stdout",
     "output_type": "stream",
     "text": [
      "<class 'pandas.core.frame.DataFrame'>\n",
      "RangeIndex: 2009 entries, 0 to 2008\n",
      "Data columns (total 41 columns):\n",
      " #   Column                                    Non-Null Count  Dtype  \n",
      "---  ------                                    --------------  -----  \n",
      " 0   Issue key                                 2009 non-null   object \n",
      " 1   Issue id                                  2009 non-null   int64  \n",
      " 2   Issue Type                                2009 non-null   object \n",
      " 3   Project name                              2009 non-null   object \n",
      " 4   Project lead                              2009 non-null   object \n",
      " 5   Priority                                  2009 non-null   object \n",
      " 6   Assignee                                  1913 non-null   object \n",
      " 7   Reporter                                  2009 non-null   object \n",
      " 8   Due date                                  2009 non-null   object \n",
      " 9   Description                               1345 non-null   object \n",
      " 10  Original estimate                         1024 non-null   float64\n",
      " 11  Remaining Estimate                        1725 non-null   float64\n",
      " 12  Time Spent                                1660 non-null   float64\n",
      " 13  Inward issue link (Blocks)                6 non-null      object \n",
      " 14  Inward issue link (Blocks).1              3 non-null      object \n",
      " 15  Inward issue link (Blocks).2              2 non-null      object \n",
      " 16  Inward issue link (Blocks).3              1 non-null      object \n",
      " 17  Inward issue link (Blocks).4              1 non-null      object \n",
      " 18  Outward issue link (Blocks)               29 non-null     object \n",
      " 19  Inward issue link (Cloners)               219 non-null    object \n",
      " 20  Inward issue link (Cloners).1             53 non-null     object \n",
      " 21  Inward issue link (Cloners).2             21 non-null     object \n",
      " 22  Inward issue link (Cloners).3             10 non-null     object \n",
      " 23  Inward issue link (Cloners).4             3 non-null      object \n",
      " 24  Inward issue link (Cloners).5             3 non-null      object \n",
      " 25  Inward issue link (Cloners).6             1 non-null      object \n",
      " 26  Inward issue link (Cloners).7             1 non-null      object \n",
      " 27  Outward issue link (Cloners)              312 non-null    object \n",
      " 28  Inward issue link (Polaris issue link)    1 non-null      object \n",
      " 29  Inward issue link (Polaris issue link).1  1 non-null      object \n",
      " 30  Inward issue link (Problem/Incident)      1 non-null      object \n",
      " 31  Outward issue link (Problem/Incident)     1 non-null      object \n",
      " 32  Inward issue link (Relates)               4 non-null      object \n",
      " 33  Outward issue link (Relates)              5 non-null      object \n",
      " 34  Status Category                           2009 non-null   object \n",
      " 35  Status Category Changed                   2009 non-null   object \n",
      " 36  Unnamed: 36                               0 non-null      float64\n",
      " 37  Unnamed: 37                               0 non-null      float64\n",
      " 38  Created                                   2009 non-null   object \n",
      " 39  inward_issue_block                        2009 non-null   int32  \n",
      " 40  inward_issue_clone                        2009 non-null   int32  \n",
      "dtypes: float64(5), int32(2), int64(1), object(33)\n",
      "memory usage: 627.9+ KB\n"
     ]
    }
   ],
   "source": [
    "df.info()"
   ]
  },
  {
   "cell_type": "code",
   "execution_count": 57,
   "id": "7c588842-267a-4f54-be60-d73c3cf0cb3a",
   "metadata": {},
   "outputs": [],
   "source": [
    "df['inward_issue_polaris'] = df[inward_issue_columns__polaris].notnull().any(axis=1).astype(int)"
   ]
  },
  {
   "cell_type": "code",
   "execution_count": 58,
   "id": "9daca3b9-4043-4dd1-8fac-c519e12fe4e9",
   "metadata": {},
   "outputs": [],
   "source": [
    "inward_issue_columns__relates= [col for col in df.columns if col.startswith(\"Inward issue link (Relates\")]\n",
    "df['inward_issue_relates'] = df[inward_issue_columns__relates].notnull().any(axis=1).astype(int)"
   ]
  },
  {
   "cell_type": "code",
   "execution_count": 59,
   "id": "051fc641-1ba5-448a-bbd0-56ae5c5842a1",
   "metadata": {},
   "outputs": [
    {
     "name": "stdout",
     "output_type": "stream",
     "text": [
      "<class 'pandas.core.frame.DataFrame'>\n",
      "RangeIndex: 2009 entries, 0 to 2008\n",
      "Data columns (total 43 columns):\n",
      " #   Column                                    Non-Null Count  Dtype  \n",
      "---  ------                                    --------------  -----  \n",
      " 0   Issue key                                 2009 non-null   object \n",
      " 1   Issue id                                  2009 non-null   int64  \n",
      " 2   Issue Type                                2009 non-null   object \n",
      " 3   Project name                              2009 non-null   object \n",
      " 4   Project lead                              2009 non-null   object \n",
      " 5   Priority                                  2009 non-null   object \n",
      " 6   Assignee                                  1913 non-null   object \n",
      " 7   Reporter                                  2009 non-null   object \n",
      " 8   Due date                                  2009 non-null   object \n",
      " 9   Description                               1345 non-null   object \n",
      " 10  Original estimate                         1024 non-null   float64\n",
      " 11  Remaining Estimate                        1725 non-null   float64\n",
      " 12  Time Spent                                1660 non-null   float64\n",
      " 13  Inward issue link (Blocks)                6 non-null      object \n",
      " 14  Inward issue link (Blocks).1              3 non-null      object \n",
      " 15  Inward issue link (Blocks).2              2 non-null      object \n",
      " 16  Inward issue link (Blocks).3              1 non-null      object \n",
      " 17  Inward issue link (Blocks).4              1 non-null      object \n",
      " 18  Outward issue link (Blocks)               29 non-null     object \n",
      " 19  Inward issue link (Cloners)               219 non-null    object \n",
      " 20  Inward issue link (Cloners).1             53 non-null     object \n",
      " 21  Inward issue link (Cloners).2             21 non-null     object \n",
      " 22  Inward issue link (Cloners).3             10 non-null     object \n",
      " 23  Inward issue link (Cloners).4             3 non-null      object \n",
      " 24  Inward issue link (Cloners).5             3 non-null      object \n",
      " 25  Inward issue link (Cloners).6             1 non-null      object \n",
      " 26  Inward issue link (Cloners).7             1 non-null      object \n",
      " 27  Outward issue link (Cloners)              312 non-null    object \n",
      " 28  Inward issue link (Polaris issue link)    1 non-null      object \n",
      " 29  Inward issue link (Polaris issue link).1  1 non-null      object \n",
      " 30  Inward issue link (Problem/Incident)      1 non-null      object \n",
      " 31  Outward issue link (Problem/Incident)     1 non-null      object \n",
      " 32  Inward issue link (Relates)               4 non-null      object \n",
      " 33  Outward issue link (Relates)              5 non-null      object \n",
      " 34  Status Category                           2009 non-null   object \n",
      " 35  Status Category Changed                   2009 non-null   object \n",
      " 36  Unnamed: 36                               0 non-null      float64\n",
      " 37  Unnamed: 37                               0 non-null      float64\n",
      " 38  Created                                   2009 non-null   object \n",
      " 39  inward_issue_block                        2009 non-null   int32  \n",
      " 40  inward_issue_clone                        2009 non-null   int32  \n",
      " 41  inward_issue_polaris                      2009 non-null   int32  \n",
      " 42  inward_issue_relates                      2009 non-null   int32  \n",
      "dtypes: float64(5), int32(4), int64(1), object(33)\n",
      "memory usage: 643.6+ KB\n"
     ]
    }
   ],
   "source": [
    "df.info()"
   ]
  },
  {
   "cell_type": "code",
   "execution_count": 60,
   "id": "1f17cd11-c3c2-46b2-91a0-318362d230e9",
   "metadata": {},
   "outputs": [],
   "source": [
    "outward_issue_columns= [col for col in df.columns if col.startswith(\"Outward issue link\")]"
   ]
  },
  {
   "cell_type": "code",
   "execution_count": 61,
   "id": "722100bc-682f-44d1-8a67-c2bc2b68e6be",
   "metadata": {},
   "outputs": [
    {
     "data": {
      "text/plain": [
       "['Outward issue link (Blocks)',\n",
       " 'Outward issue link (Cloners)',\n",
       " 'Outward issue link (Problem/Incident)',\n",
       " 'Outward issue link (Relates)']"
      ]
     },
     "execution_count": 61,
     "metadata": {},
     "output_type": "execute_result"
    }
   ],
   "source": [
    "outward_issue_columns"
   ]
  },
  {
   "cell_type": "code",
   "execution_count": 62,
   "id": "9059c769-2318-4699-ba3b-56d5b4971eba",
   "metadata": {},
   "outputs": [],
   "source": [
    "outward_issue_columns_Blocks= [col for col in df.columns if col.startswith(\"Outward issue link (Blocks)\")]\n",
    "outward_issue_columns_Cloners= [col for col in df.columns if col.startswith(\"Outward issue link (Cloners)\")]\n",
    "outward_issue_columns_Problem= [col for col in df.columns if col.startswith(\"Outward issue link (Problem/Incident)\")]\n",
    "outward_issue_columns_Relates= [col for col in df.columns if col.startswith(\"Outward issue link (Relates)\")]"
   ]
  },
  {
   "cell_type": "code",
   "execution_count": 63,
   "id": "ba62bebc-83b5-4104-9973-c92c459138c5",
   "metadata": {},
   "outputs": [],
   "source": [
    "df['outward_issue_columns_Blocks'] = df[outward_issue_columns_Blocks].notnull().any(axis=1).astype(int)\n",
    "df['outward_issue_columns_Cloners'] = df[outward_issue_columns_Cloners].notnull().any(axis=1).astype(int)\n",
    "df['outward_issue_columns_Problem'] = df[outward_issue_columns_Problem].notnull().any(axis=1).astype(int)\n",
    "df['outward_issue_columns_Relates'] = df[outward_issue_columns_Relates].notnull().any(axis=1).astype(int)"
   ]
  },
  {
   "cell_type": "code",
   "execution_count": 64,
   "id": "684f0643-83c7-429d-a2c0-05f5ff898db1",
   "metadata": {},
   "outputs": [
    {
     "name": "stdout",
     "output_type": "stream",
     "text": [
      "<class 'pandas.core.frame.DataFrame'>\n",
      "RangeIndex: 2009 entries, 0 to 2008\n",
      "Data columns (total 47 columns):\n",
      " #   Column                                    Non-Null Count  Dtype  \n",
      "---  ------                                    --------------  -----  \n",
      " 0   Issue key                                 2009 non-null   object \n",
      " 1   Issue id                                  2009 non-null   int64  \n",
      " 2   Issue Type                                2009 non-null   object \n",
      " 3   Project name                              2009 non-null   object \n",
      " 4   Project lead                              2009 non-null   object \n",
      " 5   Priority                                  2009 non-null   object \n",
      " 6   Assignee                                  1913 non-null   object \n",
      " 7   Reporter                                  2009 non-null   object \n",
      " 8   Due date                                  2009 non-null   object \n",
      " 9   Description                               1345 non-null   object \n",
      " 10  Original estimate                         1024 non-null   float64\n",
      " 11  Remaining Estimate                        1725 non-null   float64\n",
      " 12  Time Spent                                1660 non-null   float64\n",
      " 13  Inward issue link (Blocks)                6 non-null      object \n",
      " 14  Inward issue link (Blocks).1              3 non-null      object \n",
      " 15  Inward issue link (Blocks).2              2 non-null      object \n",
      " 16  Inward issue link (Blocks).3              1 non-null      object \n",
      " 17  Inward issue link (Blocks).4              1 non-null      object \n",
      " 18  Outward issue link (Blocks)               29 non-null     object \n",
      " 19  Inward issue link (Cloners)               219 non-null    object \n",
      " 20  Inward issue link (Cloners).1             53 non-null     object \n",
      " 21  Inward issue link (Cloners).2             21 non-null     object \n",
      " 22  Inward issue link (Cloners).3             10 non-null     object \n",
      " 23  Inward issue link (Cloners).4             3 non-null      object \n",
      " 24  Inward issue link (Cloners).5             3 non-null      object \n",
      " 25  Inward issue link (Cloners).6             1 non-null      object \n",
      " 26  Inward issue link (Cloners).7             1 non-null      object \n",
      " 27  Outward issue link (Cloners)              312 non-null    object \n",
      " 28  Inward issue link (Polaris issue link)    1 non-null      object \n",
      " 29  Inward issue link (Polaris issue link).1  1 non-null      object \n",
      " 30  Inward issue link (Problem/Incident)      1 non-null      object \n",
      " 31  Outward issue link (Problem/Incident)     1 non-null      object \n",
      " 32  Inward issue link (Relates)               4 non-null      object \n",
      " 33  Outward issue link (Relates)              5 non-null      object \n",
      " 34  Status Category                           2009 non-null   object \n",
      " 35  Status Category Changed                   2009 non-null   object \n",
      " 36  Unnamed: 36                               0 non-null      float64\n",
      " 37  Unnamed: 37                               0 non-null      float64\n",
      " 38  Created                                   2009 non-null   object \n",
      " 39  inward_issue_block                        2009 non-null   int32  \n",
      " 40  inward_issue_clone                        2009 non-null   int32  \n",
      " 41  inward_issue_polaris                      2009 non-null   int32  \n",
      " 42  inward_issue_relates                      2009 non-null   int32  \n",
      " 43  outward_issue_columns_Blocks              2009 non-null   int32  \n",
      " 44  outward_issue_columns_Cloners             2009 non-null   int32  \n",
      " 45  outward_issue_columns_Problem             2009 non-null   int32  \n",
      " 46  outward_issue_columns_Relates             2009 non-null   int32  \n",
      "dtypes: float64(5), int32(8), int64(1), object(33)\n",
      "memory usage: 675.0+ KB\n"
     ]
    }
   ],
   "source": [
    "df.info()"
   ]
  },
  {
   "cell_type": "code",
   "execution_count": 65,
   "id": "ad685516-d9f5-4f1f-bb0a-f8091ea7b6e1",
   "metadata": {},
   "outputs": [
    {
     "data": {
      "text/html": [
       "<div>\n",
       "<style scoped>\n",
       "    .dataframe tbody tr th:only-of-type {\n",
       "        vertical-align: middle;\n",
       "    }\n",
       "\n",
       "    .dataframe tbody tr th {\n",
       "        vertical-align: top;\n",
       "    }\n",
       "\n",
       "    .dataframe thead th {\n",
       "        text-align: right;\n",
       "    }\n",
       "</style>\n",
       "<table border=\"1\" class=\"dataframe\">\n",
       "  <thead>\n",
       "    <tr style=\"text-align: right;\">\n",
       "      <th></th>\n",
       "      <th>Issue key</th>\n",
       "      <th>Issue id</th>\n",
       "      <th>Issue Type</th>\n",
       "      <th>Project name</th>\n",
       "      <th>Project lead</th>\n",
       "      <th>Priority</th>\n",
       "      <th>Assignee</th>\n",
       "      <th>Reporter</th>\n",
       "      <th>Due date</th>\n",
       "      <th>Description</th>\n",
       "      <th>...</th>\n",
       "      <th>Unnamed: 37</th>\n",
       "      <th>Created</th>\n",
       "      <th>inward_issue_block</th>\n",
       "      <th>inward_issue_clone</th>\n",
       "      <th>inward_issue_polaris</th>\n",
       "      <th>inward_issue_relates</th>\n",
       "      <th>outward_issue_columns_Blocks</th>\n",
       "      <th>outward_issue_columns_Cloners</th>\n",
       "      <th>outward_issue_columns_Problem</th>\n",
       "      <th>outward_issue_columns_Relates</th>\n",
       "    </tr>\n",
       "  </thead>\n",
       "  <tbody>\n",
       "    <tr>\n",
       "      <th>552</th>\n",
       "      <td>LEVI-1481</td>\n",
       "      <td>22641</td>\n",
       "      <td>Bug</td>\n",
       "      <td>Levi</td>\n",
       "      <td>Arun Kumar Saxena</td>\n",
       "      <td>P1</td>\n",
       "      <td>Dhirendra Pratap</td>\n",
       "      <td>David Merrit</td>\n",
       "      <td>&lt;function &lt;lambda&gt; at 0x7eee8b9024f0&gt;</td>\n",
       "      <td>NaN</td>\n",
       "      <td>...</td>\n",
       "      <td>NaN</td>\n",
       "      <td>11-11-2024 10:22</td>\n",
       "      <td>0</td>\n",
       "      <td>0</td>\n",
       "      <td>0</td>\n",
       "      <td>0</td>\n",
       "      <td>0</td>\n",
       "      <td>0</td>\n",
       "      <td>0</td>\n",
       "      <td>0</td>\n",
       "    </tr>\n",
       "    <tr>\n",
       "      <th>872</th>\n",
       "      <td>LEVI-1129</td>\n",
       "      <td>20404</td>\n",
       "      <td>Bug</td>\n",
       "      <td>Levi</td>\n",
       "      <td>Arun Kumar Saxena</td>\n",
       "      <td>P2</td>\n",
       "      <td>Raghav Singh</td>\n",
       "      <td>Saugata Chandra</td>\n",
       "      <td>&lt;function &lt;lambda&gt; at 0x7eee8b9024f0&gt;</td>\n",
       "      <td># HR Dashboard/Recruiter Dashboard - outline v...</td>\n",
       "      <td>...</td>\n",
       "      <td>NaN</td>\n",
       "      <td>09-08-2024 16:11</td>\n",
       "      <td>0</td>\n",
       "      <td>0</td>\n",
       "      <td>0</td>\n",
       "      <td>0</td>\n",
       "      <td>0</td>\n",
       "      <td>0</td>\n",
       "      <td>0</td>\n",
       "      <td>0</td>\n",
       "    </tr>\n",
       "    <tr>\n",
       "      <th>472</th>\n",
       "      <td>LEVI-1568</td>\n",
       "      <td>22946</td>\n",
       "      <td>Task</td>\n",
       "      <td>Levi</td>\n",
       "      <td>Arun Kumar Saxena</td>\n",
       "      <td>P2</td>\n",
       "      <td>Raghav Singh</td>\n",
       "      <td>Raghav Singh</td>\n",
       "      <td>&lt;function &lt;lambda&gt; at 0x7eee8b9024f0&gt;</td>\n",
       "      <td>NaN</td>\n",
       "      <td>...</td>\n",
       "      <td>NaN</td>\n",
       "      <td>27-11-2024 16:21</td>\n",
       "      <td>0</td>\n",
       "      <td>0</td>\n",
       "      <td>0</td>\n",
       "      <td>0</td>\n",
       "      <td>0</td>\n",
       "      <td>0</td>\n",
       "      <td>0</td>\n",
       "      <td>0</td>\n",
       "    </tr>\n",
       "    <tr>\n",
       "      <th>915</th>\n",
       "      <td>LEVI-887</td>\n",
       "      <td>20355</td>\n",
       "      <td>Bug</td>\n",
       "      <td>Levi</td>\n",
       "      <td>Arun Kumar Saxena</td>\n",
       "      <td>P2</td>\n",
       "      <td>Raghav Singh</td>\n",
       "      <td>Shivangi Mehra</td>\n",
       "      <td>&lt;function &lt;lambda&gt; at 0x7eee8b9024f0&gt;</td>\n",
       "      <td>\\n\\n!image (28).png|width=940,height=448,alt=\"...</td>\n",
       "      <td>...</td>\n",
       "      <td>NaN</td>\n",
       "      <td>05-08-2024 14:59</td>\n",
       "      <td>0</td>\n",
       "      <td>0</td>\n",
       "      <td>0</td>\n",
       "      <td>0</td>\n",
       "      <td>0</td>\n",
       "      <td>0</td>\n",
       "      <td>0</td>\n",
       "      <td>0</td>\n",
       "    </tr>\n",
       "    <tr>\n",
       "      <th>217</th>\n",
       "      <td>LEVI-1828</td>\n",
       "      <td>24883</td>\n",
       "      <td>Task</td>\n",
       "      <td>Levi</td>\n",
       "      <td>Arun Kumar Saxena</td>\n",
       "      <td>P2</td>\n",
       "      <td>Prateek Chaturvedi</td>\n",
       "      <td>Prateek Chaturvedi</td>\n",
       "      <td>&lt;function &lt;lambda&gt; at 0x7eee8b9024f0&gt;</td>\n",
       "      <td>* Create up-to-date guide for integration setu...</td>\n",
       "      <td>...</td>\n",
       "      <td>NaN</td>\n",
       "      <td>19-02-2025 16:49</td>\n",
       "      <td>0</td>\n",
       "      <td>0</td>\n",
       "      <td>0</td>\n",
       "      <td>0</td>\n",
       "      <td>0</td>\n",
       "      <td>0</td>\n",
       "      <td>0</td>\n",
       "      <td>0</td>\n",
       "    </tr>\n",
       "  </tbody>\n",
       "</table>\n",
       "<p>5 rows × 47 columns</p>\n",
       "</div>"
      ],
      "text/plain": [
       "     Issue key  Issue id Issue Type Project name       Project lead Priority  \\\n",
       "552  LEVI-1481     22641        Bug         Levi  Arun Kumar Saxena       P1   \n",
       "872  LEVI-1129     20404        Bug         Levi  Arun Kumar Saxena       P2   \n",
       "472  LEVI-1568     22946       Task         Levi  Arun Kumar Saxena       P2   \n",
       "915   LEVI-887     20355        Bug         Levi  Arun Kumar Saxena       P2   \n",
       "217  LEVI-1828     24883       Task         Levi  Arun Kumar Saxena       P2   \n",
       "\n",
       "               Assignee            Reporter  \\\n",
       "552    Dhirendra Pratap        David Merrit   \n",
       "872        Raghav Singh     Saugata Chandra   \n",
       "472        Raghav Singh        Raghav Singh   \n",
       "915        Raghav Singh      Shivangi Mehra   \n",
       "217  Prateek Chaturvedi  Prateek Chaturvedi   \n",
       "\n",
       "                                  Due date  \\\n",
       "552  <function <lambda> at 0x7eee8b9024f0>   \n",
       "872  <function <lambda> at 0x7eee8b9024f0>   \n",
       "472  <function <lambda> at 0x7eee8b9024f0>   \n",
       "915  <function <lambda> at 0x7eee8b9024f0>   \n",
       "217  <function <lambda> at 0x7eee8b9024f0>   \n",
       "\n",
       "                                           Description  ...  Unnamed: 37  \\\n",
       "552                                                NaN  ...          NaN   \n",
       "872  # HR Dashboard/Recruiter Dashboard - outline v...  ...          NaN   \n",
       "472                                                NaN  ...          NaN   \n",
       "915  \\n\\n!image (28).png|width=940,height=448,alt=\"...  ...          NaN   \n",
       "217  * Create up-to-date guide for integration setu...  ...          NaN   \n",
       "\n",
       "              Created  inward_issue_block inward_issue_clone  \\\n",
       "552  11-11-2024 10:22                   0                  0   \n",
       "872  09-08-2024 16:11                   0                  0   \n",
       "472  27-11-2024 16:21                   0                  0   \n",
       "915  05-08-2024 14:59                   0                  0   \n",
       "217  19-02-2025 16:49                   0                  0   \n",
       "\n",
       "    inward_issue_polaris inward_issue_relates outward_issue_columns_Blocks  \\\n",
       "552                    0                    0                            0   \n",
       "872                    0                    0                            0   \n",
       "472                    0                    0                            0   \n",
       "915                    0                    0                            0   \n",
       "217                    0                    0                            0   \n",
       "\n",
       "    outward_issue_columns_Cloners outward_issue_columns_Problem  \\\n",
       "552                             0                             0   \n",
       "872                             0                             0   \n",
       "472                             0                             0   \n",
       "915                             0                             0   \n",
       "217                             0                             0   \n",
       "\n",
       "    outward_issue_columns_Relates  \n",
       "552                             0  \n",
       "872                             0  \n",
       "472                             0  \n",
       "915                             0  \n",
       "217                             0  \n",
       "\n",
       "[5 rows x 47 columns]"
      ]
     },
     "execution_count": 65,
     "metadata": {},
     "output_type": "execute_result"
    }
   ],
   "source": [
    "df.sample(5)"
   ]
  },
  {
   "cell_type": "code",
   "execution_count": 66,
   "id": "634d6bfb-5ee5-4c62-8592-56a8c9058282",
   "metadata": {},
   "outputs": [
    {
     "name": "stdout",
     "output_type": "stream",
     "text": [
      "<class 'pandas.core.frame.DataFrame'>\n",
      "RangeIndex: 2009 entries, 0 to 2008\n",
      "Data columns (total 47 columns):\n",
      " #   Column                                    Non-Null Count  Dtype  \n",
      "---  ------                                    --------------  -----  \n",
      " 0   Issue key                                 2009 non-null   object \n",
      " 1   Issue id                                  2009 non-null   int64  \n",
      " 2   Issue Type                                2009 non-null   object \n",
      " 3   Project name                              2009 non-null   object \n",
      " 4   Project lead                              2009 non-null   object \n",
      " 5   Priority                                  2009 non-null   object \n",
      " 6   Assignee                                  1913 non-null   object \n",
      " 7   Reporter                                  2009 non-null   object \n",
      " 8   Due date                                  2009 non-null   object \n",
      " 9   Description                               1345 non-null   object \n",
      " 10  Original estimate                         1024 non-null   float64\n",
      " 11  Remaining Estimate                        1725 non-null   float64\n",
      " 12  Time Spent                                1660 non-null   float64\n",
      " 13  Inward issue link (Blocks)                6 non-null      object \n",
      " 14  Inward issue link (Blocks).1              3 non-null      object \n",
      " 15  Inward issue link (Blocks).2              2 non-null      object \n",
      " 16  Inward issue link (Blocks).3              1 non-null      object \n",
      " 17  Inward issue link (Blocks).4              1 non-null      object \n",
      " 18  Outward issue link (Blocks)               29 non-null     object \n",
      " 19  Inward issue link (Cloners)               219 non-null    object \n",
      " 20  Inward issue link (Cloners).1             53 non-null     object \n",
      " 21  Inward issue link (Cloners).2             21 non-null     object \n",
      " 22  Inward issue link (Cloners).3             10 non-null     object \n",
      " 23  Inward issue link (Cloners).4             3 non-null      object \n",
      " 24  Inward issue link (Cloners).5             3 non-null      object \n",
      " 25  Inward issue link (Cloners).6             1 non-null      object \n",
      " 26  Inward issue link (Cloners).7             1 non-null      object \n",
      " 27  Outward issue link (Cloners)              312 non-null    object \n",
      " 28  Inward issue link (Polaris issue link)    1 non-null      object \n",
      " 29  Inward issue link (Polaris issue link).1  1 non-null      object \n",
      " 30  Inward issue link (Problem/Incident)      1 non-null      object \n",
      " 31  Outward issue link (Problem/Incident)     1 non-null      object \n",
      " 32  Inward issue link (Relates)               4 non-null      object \n",
      " 33  Outward issue link (Relates)              5 non-null      object \n",
      " 34  Status Category                           2009 non-null   object \n",
      " 35  Status Category Changed                   2009 non-null   object \n",
      " 36  Unnamed: 36                               0 non-null      float64\n",
      " 37  Unnamed: 37                               0 non-null      float64\n",
      " 38  Created                                   2009 non-null   object \n",
      " 39  inward_issue_block                        2009 non-null   int32  \n",
      " 40  inward_issue_clone                        2009 non-null   int32  \n",
      " 41  inward_issue_polaris                      2009 non-null   int32  \n",
      " 42  inward_issue_relates                      2009 non-null   int32  \n",
      " 43  outward_issue_columns_Blocks              2009 non-null   int32  \n",
      " 44  outward_issue_columns_Cloners             2009 non-null   int32  \n",
      " 45  outward_issue_columns_Problem             2009 non-null   int32  \n",
      " 46  outward_issue_columns_Relates             2009 non-null   int32  \n",
      "dtypes: float64(5), int32(8), int64(1), object(33)\n",
      "memory usage: 675.0+ KB\n"
     ]
    }
   ],
   "source": [
    "df.info()"
   ]
  },
  {
   "cell_type": "code",
   "execution_count": 67,
   "id": "633a611a-6a68-4422-9a05-eda79abeb921",
   "metadata": {},
   "outputs": [
    {
     "data": {
      "text/plain": [
       "Index(['Issue key', 'Issue id', 'Issue Type', 'Project name', 'Project lead',\n",
       "       'Priority', 'Assignee', 'Reporter', 'Due date', 'Description',\n",
       "       'Original estimate', 'Remaining Estimate', 'Time Spent',\n",
       "       'Inward issue link (Blocks)', 'Inward issue link (Blocks).1',\n",
       "       'Inward issue link (Blocks).2', 'Inward issue link (Blocks).3',\n",
       "       'Inward issue link (Blocks).4', 'Outward issue link (Blocks)',\n",
       "       'Inward issue link (Cloners)', 'Inward issue link (Cloners).1',\n",
       "       'Inward issue link (Cloners).2', 'Inward issue link (Cloners).3',\n",
       "       'Inward issue link (Cloners).4', 'Inward issue link (Cloners).5',\n",
       "       'Inward issue link (Cloners).6', 'Inward issue link (Cloners).7',\n",
       "       'Outward issue link (Cloners)',\n",
       "       'Inward issue link (Polaris issue link)',\n",
       "       'Inward issue link (Polaris issue link).1',\n",
       "       'Inward issue link (Problem/Incident)',\n",
       "       'Outward issue link (Problem/Incident)', 'Inward issue link (Relates)',\n",
       "       'Outward issue link (Relates)', 'Status Category',\n",
       "       'Status Category Changed', 'Unnamed: 36', 'Unnamed: 37', 'Created',\n",
       "       'inward_issue_block', 'inward_issue_clone', 'inward_issue_polaris',\n",
       "       'inward_issue_relates', 'outward_issue_columns_Blocks',\n",
       "       'outward_issue_columns_Cloners', 'outward_issue_columns_Problem',\n",
       "       'outward_issue_columns_Relates'],\n",
       "      dtype='object')"
      ]
     },
     "execution_count": 67,
     "metadata": {},
     "output_type": "execute_result"
    }
   ],
   "source": [
    "df.columns\n"
   ]
  },
  {
   "cell_type": "code",
   "execution_count": 70,
   "id": "1663bf3c-fa68-4ff1-a709-73fd5f0f8779",
   "metadata": {},
   "outputs": [
    {
     "ename": "KeyError",
     "evalue": "\"['Inward issue link (Blocks)', 'Inward issue link (Blocks).1', 'Inward issue link (Blocks).2', 'Inward issue link (Blocks).3', 'Inward issue link (Blocks).4', 'Outward issue link (Blocks)', 'Inward issue link (Cloners)', 'Inward issue link (Cloners).1', 'Inward issue link (Cloners).2', 'Inward issue link (Cloners).3', 'Inward issue link (Cloners).4', 'Inward issue link (Cloners).5', 'Inward issue link (Cloners).6', 'Inward issue link (Cloners).7', 'Outward issue link (Cloners)', 'Inward issue link (Polaris issue link)', 'Inward issue link (Polaris issue link).1', 'Inward issue link (Problem/Incident)', 'Outward issue link (Problem/Incident)', 'Inward issue link (Relates)', 'Outward issue link (Relates)', 'Unnamed: 36', 'Unnamed: 37'] not found in axis\"",
     "output_type": "error",
     "traceback": [
      "\u001b[1;31m---------------------------------------------------------------------------\u001b[0m",
      "\u001b[1;31mKeyError\u001b[0m                                  Traceback (most recent call last)",
      "Cell \u001b[1;32mIn[70], line 1\u001b[0m\n\u001b[1;32m----> 1\u001b[0m \u001b[43mdf\u001b[49m\u001b[38;5;241;43m.\u001b[39;49m\u001b[43mdrop\u001b[49m\u001b[43m(\u001b[49m\u001b[43mcolumns\u001b[49m\u001b[38;5;241;43m=\u001b[39;49m\u001b[43m[\u001b[49m\u001b[38;5;124;43m'\u001b[39;49m\u001b[38;5;124;43mInward issue link (Blocks)\u001b[39;49m\u001b[38;5;124;43m'\u001b[39;49m\u001b[43m,\u001b[49m\u001b[43m \u001b[49m\u001b[38;5;124;43m'\u001b[39;49m\u001b[38;5;124;43mInward issue link (Blocks).1\u001b[39;49m\u001b[38;5;124;43m'\u001b[39;49m\u001b[43m,\u001b[49m\n\u001b[0;32m      2\u001b[0m \u001b[43m       \u001b[49m\u001b[38;5;124;43m'\u001b[39;49m\u001b[38;5;124;43mInward issue link (Blocks).2\u001b[39;49m\u001b[38;5;124;43m'\u001b[39;49m\u001b[43m,\u001b[49m\u001b[43m \u001b[49m\u001b[38;5;124;43m'\u001b[39;49m\u001b[38;5;124;43mInward issue link (Blocks).3\u001b[39;49m\u001b[38;5;124;43m'\u001b[39;49m\u001b[43m,\u001b[49m\n\u001b[0;32m      3\u001b[0m \u001b[43m       \u001b[49m\u001b[38;5;124;43m'\u001b[39;49m\u001b[38;5;124;43mInward issue link (Blocks).4\u001b[39;49m\u001b[38;5;124;43m'\u001b[39;49m\u001b[43m,\u001b[49m\u001b[43m \u001b[49m\u001b[38;5;124;43m'\u001b[39;49m\u001b[38;5;124;43mOutward issue link (Blocks)\u001b[39;49m\u001b[38;5;124;43m'\u001b[39;49m\u001b[43m,\u001b[49m\n\u001b[0;32m      4\u001b[0m \u001b[43m       \u001b[49m\u001b[38;5;124;43m'\u001b[39;49m\u001b[38;5;124;43mInward issue link (Cloners)\u001b[39;49m\u001b[38;5;124;43m'\u001b[39;49m\u001b[43m,\u001b[49m\u001b[43m \u001b[49m\u001b[38;5;124;43m'\u001b[39;49m\u001b[38;5;124;43mInward issue link (Cloners).1\u001b[39;49m\u001b[38;5;124;43m'\u001b[39;49m\u001b[43m,\u001b[49m\n\u001b[0;32m      5\u001b[0m \u001b[43m       \u001b[49m\u001b[38;5;124;43m'\u001b[39;49m\u001b[38;5;124;43mInward issue link (Cloners).2\u001b[39;49m\u001b[38;5;124;43m'\u001b[39;49m\u001b[43m,\u001b[49m\u001b[43m \u001b[49m\u001b[38;5;124;43m'\u001b[39;49m\u001b[38;5;124;43mInward issue link (Cloners).3\u001b[39;49m\u001b[38;5;124;43m'\u001b[39;49m\u001b[43m,\u001b[49m\n\u001b[0;32m      6\u001b[0m \u001b[43m       \u001b[49m\u001b[38;5;124;43m'\u001b[39;49m\u001b[38;5;124;43mInward issue link (Cloners).4\u001b[39;49m\u001b[38;5;124;43m'\u001b[39;49m\u001b[43m,\u001b[49m\u001b[43m \u001b[49m\u001b[38;5;124;43m'\u001b[39;49m\u001b[38;5;124;43mInward issue link (Cloners).5\u001b[39;49m\u001b[38;5;124;43m'\u001b[39;49m\u001b[43m,\u001b[49m\n\u001b[0;32m      7\u001b[0m \u001b[43m       \u001b[49m\u001b[38;5;124;43m'\u001b[39;49m\u001b[38;5;124;43mInward issue link (Cloners).6\u001b[39;49m\u001b[38;5;124;43m'\u001b[39;49m\u001b[43m,\u001b[49m\u001b[43m \u001b[49m\u001b[38;5;124;43m'\u001b[39;49m\u001b[38;5;124;43mInward issue link (Cloners).7\u001b[39;49m\u001b[38;5;124;43m'\u001b[39;49m\u001b[43m,\u001b[49m\n\u001b[0;32m      8\u001b[0m \u001b[43m       \u001b[49m\u001b[38;5;124;43m'\u001b[39;49m\u001b[38;5;124;43mOutward issue link (Cloners)\u001b[39;49m\u001b[38;5;124;43m'\u001b[39;49m\u001b[43m,\u001b[49m\n\u001b[0;32m      9\u001b[0m \u001b[43m       \u001b[49m\u001b[38;5;124;43m'\u001b[39;49m\u001b[38;5;124;43mInward issue link (Polaris issue link)\u001b[39;49m\u001b[38;5;124;43m'\u001b[39;49m\u001b[43m,\u001b[49m\n\u001b[0;32m     10\u001b[0m \u001b[43m       \u001b[49m\u001b[38;5;124;43m'\u001b[39;49m\u001b[38;5;124;43mInward issue link (Polaris issue link).1\u001b[39;49m\u001b[38;5;124;43m'\u001b[39;49m\u001b[43m,\u001b[49m\n\u001b[0;32m     11\u001b[0m \u001b[43m       \u001b[49m\u001b[38;5;124;43m'\u001b[39;49m\u001b[38;5;124;43mInward issue link (Problem/Incident)\u001b[39;49m\u001b[38;5;124;43m'\u001b[39;49m\u001b[43m,\u001b[49m\n\u001b[0;32m     12\u001b[0m \u001b[43m       \u001b[49m\u001b[38;5;124;43m'\u001b[39;49m\u001b[38;5;124;43mOutward issue link (Problem/Incident)\u001b[39;49m\u001b[38;5;124;43m'\u001b[39;49m\u001b[43m,\u001b[49m\u001b[38;5;124;43m'\u001b[39;49m\u001b[38;5;124;43mInward issue link (Relates)\u001b[39;49m\u001b[38;5;124;43m'\u001b[39;49m\u001b[43m,\u001b[49m\n\u001b[0;32m     13\u001b[0m \u001b[43m       \u001b[49m\u001b[38;5;124;43m'\u001b[39;49m\u001b[38;5;124;43mOutward issue link (Relates)\u001b[39;49m\u001b[38;5;124;43m'\u001b[39;49m\u001b[43m \u001b[49m\u001b[43m,\u001b[49m\u001b[43m \u001b[49m\u001b[38;5;124;43m'\u001b[39;49m\u001b[38;5;124;43mUnnamed: 36\u001b[39;49m\u001b[38;5;124;43m'\u001b[39;49m\u001b[43m,\u001b[49m\u001b[43m \u001b[49m\u001b[38;5;124;43m'\u001b[39;49m\u001b[38;5;124;43mUnnamed: 37\u001b[39;49m\u001b[38;5;124;43m'\u001b[39;49m\u001b[43m \u001b[49m\u001b[43m,\u001b[49m\u001b[43m \u001b[49m\u001b[38;5;124;43m'\u001b[39;49m\u001b[38;5;124;43mStatus Category Changed\u001b[39;49m\u001b[38;5;124;43m'\u001b[39;49m\u001b[43m]\u001b[49m\u001b[43m \u001b[49m\u001b[43m,\u001b[49m\u001b[43m \u001b[49m\u001b[43minplace\u001b[49m\u001b[38;5;241;43m=\u001b[39;49m\u001b[38;5;28;43;01mTrue\u001b[39;49;00m\u001b[43m)\u001b[49m\n",
      "File \u001b[1;32m~\\AppData\\Local\\Programs\\Python\\Python312\\Lib\\site-packages\\pandas\\core\\frame.py:5581\u001b[0m, in \u001b[0;36mDataFrame.drop\u001b[1;34m(self, labels, axis, index, columns, level, inplace, errors)\u001b[0m\n\u001b[0;32m   5433\u001b[0m \u001b[38;5;28;01mdef\u001b[39;00m \u001b[38;5;21mdrop\u001b[39m(\n\u001b[0;32m   5434\u001b[0m     \u001b[38;5;28mself\u001b[39m,\n\u001b[0;32m   5435\u001b[0m     labels: IndexLabel \u001b[38;5;241m|\u001b[39m \u001b[38;5;28;01mNone\u001b[39;00m \u001b[38;5;241m=\u001b[39m \u001b[38;5;28;01mNone\u001b[39;00m,\n\u001b[1;32m   (...)\u001b[0m\n\u001b[0;32m   5442\u001b[0m     errors: IgnoreRaise \u001b[38;5;241m=\u001b[39m \u001b[38;5;124m\"\u001b[39m\u001b[38;5;124mraise\u001b[39m\u001b[38;5;124m\"\u001b[39m,\n\u001b[0;32m   5443\u001b[0m ) \u001b[38;5;241m-\u001b[39m\u001b[38;5;241m>\u001b[39m DataFrame \u001b[38;5;241m|\u001b[39m \u001b[38;5;28;01mNone\u001b[39;00m:\n\u001b[0;32m   5444\u001b[0m \u001b[38;5;250m    \u001b[39m\u001b[38;5;124;03m\"\"\"\u001b[39;00m\n\u001b[0;32m   5445\u001b[0m \u001b[38;5;124;03m    Drop specified labels from rows or columns.\u001b[39;00m\n\u001b[0;32m   5446\u001b[0m \n\u001b[1;32m   (...)\u001b[0m\n\u001b[0;32m   5579\u001b[0m \u001b[38;5;124;03m            weight  1.0     0.8\u001b[39;00m\n\u001b[0;32m   5580\u001b[0m \u001b[38;5;124;03m    \"\"\"\u001b[39;00m\n\u001b[1;32m-> 5581\u001b[0m     \u001b[38;5;28;01mreturn\u001b[39;00m \u001b[38;5;28;43msuper\u001b[39;49m\u001b[43m(\u001b[49m\u001b[43m)\u001b[49m\u001b[38;5;241;43m.\u001b[39;49m\u001b[43mdrop\u001b[49m\u001b[43m(\u001b[49m\n\u001b[0;32m   5582\u001b[0m \u001b[43m        \u001b[49m\u001b[43mlabels\u001b[49m\u001b[38;5;241;43m=\u001b[39;49m\u001b[43mlabels\u001b[49m\u001b[43m,\u001b[49m\n\u001b[0;32m   5583\u001b[0m \u001b[43m        \u001b[49m\u001b[43maxis\u001b[49m\u001b[38;5;241;43m=\u001b[39;49m\u001b[43maxis\u001b[49m\u001b[43m,\u001b[49m\n\u001b[0;32m   5584\u001b[0m \u001b[43m        \u001b[49m\u001b[43mindex\u001b[49m\u001b[38;5;241;43m=\u001b[39;49m\u001b[43mindex\u001b[49m\u001b[43m,\u001b[49m\n\u001b[0;32m   5585\u001b[0m \u001b[43m        \u001b[49m\u001b[43mcolumns\u001b[49m\u001b[38;5;241;43m=\u001b[39;49m\u001b[43mcolumns\u001b[49m\u001b[43m,\u001b[49m\n\u001b[0;32m   5586\u001b[0m \u001b[43m        \u001b[49m\u001b[43mlevel\u001b[49m\u001b[38;5;241;43m=\u001b[39;49m\u001b[43mlevel\u001b[49m\u001b[43m,\u001b[49m\n\u001b[0;32m   5587\u001b[0m \u001b[43m        \u001b[49m\u001b[43minplace\u001b[49m\u001b[38;5;241;43m=\u001b[39;49m\u001b[43minplace\u001b[49m\u001b[43m,\u001b[49m\n\u001b[0;32m   5588\u001b[0m \u001b[43m        \u001b[49m\u001b[43merrors\u001b[49m\u001b[38;5;241;43m=\u001b[39;49m\u001b[43merrors\u001b[49m\u001b[43m,\u001b[49m\n\u001b[0;32m   5589\u001b[0m \u001b[43m    \u001b[49m\u001b[43m)\u001b[49m\n",
      "File \u001b[1;32m~\\AppData\\Local\\Programs\\Python\\Python312\\Lib\\site-packages\\pandas\\core\\generic.py:4788\u001b[0m, in \u001b[0;36mNDFrame.drop\u001b[1;34m(self, labels, axis, index, columns, level, inplace, errors)\u001b[0m\n\u001b[0;32m   4786\u001b[0m \u001b[38;5;28;01mfor\u001b[39;00m axis, labels \u001b[38;5;129;01min\u001b[39;00m axes\u001b[38;5;241m.\u001b[39mitems():\n\u001b[0;32m   4787\u001b[0m     \u001b[38;5;28;01mif\u001b[39;00m labels \u001b[38;5;129;01mis\u001b[39;00m \u001b[38;5;129;01mnot\u001b[39;00m \u001b[38;5;28;01mNone\u001b[39;00m:\n\u001b[1;32m-> 4788\u001b[0m         obj \u001b[38;5;241m=\u001b[39m \u001b[43mobj\u001b[49m\u001b[38;5;241;43m.\u001b[39;49m\u001b[43m_drop_axis\u001b[49m\u001b[43m(\u001b[49m\u001b[43mlabels\u001b[49m\u001b[43m,\u001b[49m\u001b[43m \u001b[49m\u001b[43maxis\u001b[49m\u001b[43m,\u001b[49m\u001b[43m \u001b[49m\u001b[43mlevel\u001b[49m\u001b[38;5;241;43m=\u001b[39;49m\u001b[43mlevel\u001b[49m\u001b[43m,\u001b[49m\u001b[43m \u001b[49m\u001b[43merrors\u001b[49m\u001b[38;5;241;43m=\u001b[39;49m\u001b[43merrors\u001b[49m\u001b[43m)\u001b[49m\n\u001b[0;32m   4790\u001b[0m \u001b[38;5;28;01mif\u001b[39;00m inplace:\n\u001b[0;32m   4791\u001b[0m     \u001b[38;5;28mself\u001b[39m\u001b[38;5;241m.\u001b[39m_update_inplace(obj)\n",
      "File \u001b[1;32m~\\AppData\\Local\\Programs\\Python\\Python312\\Lib\\site-packages\\pandas\\core\\generic.py:4830\u001b[0m, in \u001b[0;36mNDFrame._drop_axis\u001b[1;34m(self, labels, axis, level, errors, only_slice)\u001b[0m\n\u001b[0;32m   4828\u001b[0m         new_axis \u001b[38;5;241m=\u001b[39m axis\u001b[38;5;241m.\u001b[39mdrop(labels, level\u001b[38;5;241m=\u001b[39mlevel, errors\u001b[38;5;241m=\u001b[39merrors)\n\u001b[0;32m   4829\u001b[0m     \u001b[38;5;28;01melse\u001b[39;00m:\n\u001b[1;32m-> 4830\u001b[0m         new_axis \u001b[38;5;241m=\u001b[39m \u001b[43maxis\u001b[49m\u001b[38;5;241;43m.\u001b[39;49m\u001b[43mdrop\u001b[49m\u001b[43m(\u001b[49m\u001b[43mlabels\u001b[49m\u001b[43m,\u001b[49m\u001b[43m \u001b[49m\u001b[43merrors\u001b[49m\u001b[38;5;241;43m=\u001b[39;49m\u001b[43merrors\u001b[49m\u001b[43m)\u001b[49m\n\u001b[0;32m   4831\u001b[0m     indexer \u001b[38;5;241m=\u001b[39m axis\u001b[38;5;241m.\u001b[39mget_indexer(new_axis)\n\u001b[0;32m   4833\u001b[0m \u001b[38;5;66;03m# Case for non-unique axis\u001b[39;00m\n\u001b[0;32m   4834\u001b[0m \u001b[38;5;28;01melse\u001b[39;00m:\n",
      "File \u001b[1;32m~\\AppData\\Local\\Programs\\Python\\Python312\\Lib\\site-packages\\pandas\\core\\indexes\\base.py:7070\u001b[0m, in \u001b[0;36mIndex.drop\u001b[1;34m(self, labels, errors)\u001b[0m\n\u001b[0;32m   7068\u001b[0m \u001b[38;5;28;01mif\u001b[39;00m mask\u001b[38;5;241m.\u001b[39many():\n\u001b[0;32m   7069\u001b[0m     \u001b[38;5;28;01mif\u001b[39;00m errors \u001b[38;5;241m!=\u001b[39m \u001b[38;5;124m\"\u001b[39m\u001b[38;5;124mignore\u001b[39m\u001b[38;5;124m\"\u001b[39m:\n\u001b[1;32m-> 7070\u001b[0m         \u001b[38;5;28;01mraise\u001b[39;00m \u001b[38;5;167;01mKeyError\u001b[39;00m(\u001b[38;5;124mf\u001b[39m\u001b[38;5;124m\"\u001b[39m\u001b[38;5;132;01m{\u001b[39;00mlabels[mask]\u001b[38;5;241m.\u001b[39mtolist()\u001b[38;5;132;01m}\u001b[39;00m\u001b[38;5;124m not found in axis\u001b[39m\u001b[38;5;124m\"\u001b[39m)\n\u001b[0;32m   7071\u001b[0m     indexer \u001b[38;5;241m=\u001b[39m indexer[\u001b[38;5;241m~\u001b[39mmask]\n\u001b[0;32m   7072\u001b[0m \u001b[38;5;28;01mreturn\u001b[39;00m \u001b[38;5;28mself\u001b[39m\u001b[38;5;241m.\u001b[39mdelete(indexer)\n",
      "\u001b[1;31mKeyError\u001b[0m: \"['Inward issue link (Blocks)', 'Inward issue link (Blocks).1', 'Inward issue link (Blocks).2', 'Inward issue link (Blocks).3', 'Inward issue link (Blocks).4', 'Outward issue link (Blocks)', 'Inward issue link (Cloners)', 'Inward issue link (Cloners).1', 'Inward issue link (Cloners).2', 'Inward issue link (Cloners).3', 'Inward issue link (Cloners).4', 'Inward issue link (Cloners).5', 'Inward issue link (Cloners).6', 'Inward issue link (Cloners).7', 'Outward issue link (Cloners)', 'Inward issue link (Polaris issue link)', 'Inward issue link (Polaris issue link).1', 'Inward issue link (Problem/Incident)', 'Outward issue link (Problem/Incident)', 'Inward issue link (Relates)', 'Outward issue link (Relates)', 'Unnamed: 36', 'Unnamed: 37'] not found in axis\""
     ]
    }
   ],
   "source": [
    "df.drop(columns=['Inward issue link (Blocks)', 'Inward issue link (Blocks).1',\n",
    "       'Inward issue link (Blocks).2', 'Inward issue link (Blocks).3',\n",
    "       'Inward issue link (Blocks).4', 'Outward issue link (Blocks)',\n",
    "       'Inward issue link (Cloners)', 'Inward issue link (Cloners).1',\n",
    "       'Inward issue link (Cloners).2', 'Inward issue link (Cloners).3',\n",
    "       'Inward issue link (Cloners).4', 'Inward issue link (Cloners).5',\n",
    "       'Inward issue link (Cloners).6', 'Inward issue link (Cloners).7',\n",
    "       'Outward issue link (Cloners)',\n",
    "       'Inward issue link (Polaris issue link)',\n",
    "       'Inward issue link (Polaris issue link).1',\n",
    "       'Inward issue link (Problem/Incident)',\n",
    "       'Outward issue link (Problem/Incident)','Inward issue link (Relates)',\n",
    "       'Outward issue link (Relates)' , 'Unnamed: 36', 'Unnamed: 37' , 'Status Category Changed'] , inplace=True)"
   ]
  },
  {
   "cell_type": "code",
   "execution_count": 71,
   "id": "04cc984e-e617-4992-bf1e-6d7ca52dd0f2",
   "metadata": {},
   "outputs": [
    {
     "name": "stdout",
     "output_type": "stream",
     "text": [
      "<class 'pandas.core.frame.DataFrame'>\n",
      "RangeIndex: 2009 entries, 0 to 2008\n",
      "Data columns (total 24 columns):\n",
      " #   Column                         Non-Null Count  Dtype  \n",
      "---  ------                         --------------  -----  \n",
      " 0   Issue key                      2009 non-null   object \n",
      " 1   Issue id                       2009 non-null   int64  \n",
      " 2   Issue Type                     2009 non-null   object \n",
      " 3   Project name                   2009 non-null   object \n",
      " 4   Project lead                   2009 non-null   object \n",
      " 5   Priority                       2009 non-null   object \n",
      " 6   Assignee                       1913 non-null   object \n",
      " 7   Reporter                       2009 non-null   object \n",
      " 8   Due date                       2009 non-null   object \n",
      " 9   Description                    1345 non-null   object \n",
      " 10  Original estimate              1024 non-null   float64\n",
      " 11  Remaining Estimate             1725 non-null   float64\n",
      " 12  Time Spent                     1660 non-null   float64\n",
      " 13  Status Category                2009 non-null   object \n",
      " 14  Status Category Changed        2009 non-null   object \n",
      " 15  Created                        2009 non-null   object \n",
      " 16  inward_issue_block             2009 non-null   int32  \n",
      " 17  inward_issue_clone             2009 non-null   int32  \n",
      " 18  inward_issue_polaris           2009 non-null   int32  \n",
      " 19  inward_issue_relates           2009 non-null   int32  \n",
      " 20  outward_issue_columns_Blocks   2009 non-null   int32  \n",
      " 21  outward_issue_columns_Cloners  2009 non-null   int32  \n",
      " 22  outward_issue_columns_Problem  2009 non-null   int32  \n",
      " 23  outward_issue_columns_Relates  2009 non-null   int32  \n",
      "dtypes: float64(3), int32(8), int64(1), object(12)\n",
      "memory usage: 314.0+ KB\n"
     ]
    }
   ],
   "source": [
    "df.info()"
   ]
  },
  {
   "cell_type": "code",
   "execution_count": 72,
   "id": "cda50e8d-f408-40f4-908f-4fea7343fddb",
   "metadata": {},
   "outputs": [],
   "source": [
    "df1=df"
   ]
  },
  {
   "cell_type": "code",
   "execution_count": 73,
   "id": "84adff43-aed9-4a72-9f22-211632046226",
   "metadata": {},
   "outputs": [
    {
     "data": {
      "text/plain": [
       "Index(['Issue key', 'Issue id', 'Issue Type', 'Project name', 'Project lead',\n",
       "       'Priority', 'Assignee', 'Reporter', 'Due date', 'Description',\n",
       "       'Original estimate', 'Remaining Estimate', 'Time Spent',\n",
       "       'Status Category', 'Status Category Changed', 'Created',\n",
       "       'inward_issue_block', 'inward_issue_clone', 'inward_issue_polaris',\n",
       "       'inward_issue_relates', 'outward_issue_columns_Blocks',\n",
       "       'outward_issue_columns_Cloners', 'outward_issue_columns_Problem',\n",
       "       'outward_issue_columns_Relates'],\n",
       "      dtype='object')"
      ]
     },
     "execution_count": 73,
     "metadata": {},
     "output_type": "execute_result"
    }
   ],
   "source": [
    "df.columns"
   ]
  },
  {
   "cell_type": "markdown",
   "id": "0c2da6e1-2b5a-4e54-bc8f-a82537118709",
   "metadata": {},
   "source": [
    "//for traing i used the params -:'Issue Type', 'Status' , 'Original estimate', 'Remaining Estimate', 'Time Spent' ,  'Status Category' , 'inward_issue_block',\n",
    "       'inward_issue_clone', 'inward_issue_polaris',\n",
    "       'outward_issue_columns_Blocks', 'outward_issue_columns_Cloners',\n",
    "       'outward_issue_columns_Problem', 'outward_issue_columns_Relates',\n",
    "       'inward_issue_relates' , 'Total_Days' , 'Days_Remaing' , 'spent days' , 'rate of doing' , 'risky or not'\n",
    "\n",
    "these are the params which i have alrdy \n",
    "now params req-: total days provided \n",
    "rate of doing work \n",
    "if_ rate continue is it risky or not \n",
    "make output colm on the based on risky or not risky"
   ]
  },
  {
   "cell_type": "code",
   "execution_count": 74,
   "id": "0f477706-f567-4ecc-8402-4db1df7cd0c8",
   "metadata": {},
   "outputs": [
    {
     "name": "stdout",
     "output_type": "stream",
     "text": [
      "<class 'pandas.core.frame.DataFrame'>\n",
      "RangeIndex: 2009 entries, 0 to 2008\n",
      "Data columns (total 24 columns):\n",
      " #   Column                         Non-Null Count  Dtype  \n",
      "---  ------                         --------------  -----  \n",
      " 0   Issue key                      2009 non-null   object \n",
      " 1   Issue id                       2009 non-null   int64  \n",
      " 2   Issue Type                     2009 non-null   object \n",
      " 3   Project name                   2009 non-null   object \n",
      " 4   Project lead                   2009 non-null   object \n",
      " 5   Priority                       2009 non-null   object \n",
      " 6   Assignee                       1913 non-null   object \n",
      " 7   Reporter                       2009 non-null   object \n",
      " 8   Due date                       2009 non-null   object \n",
      " 9   Description                    1345 non-null   object \n",
      " 10  Original estimate              1024 non-null   float64\n",
      " 11  Remaining Estimate             1725 non-null   float64\n",
      " 12  Time Spent                     1660 non-null   float64\n",
      " 13  Status Category                2009 non-null   object \n",
      " 14  Status Category Changed        2009 non-null   object \n",
      " 15  Created                        2009 non-null   object \n",
      " 16  inward_issue_block             2009 non-null   int32  \n",
      " 17  inward_issue_clone             2009 non-null   int32  \n",
      " 18  inward_issue_polaris           2009 non-null   int32  \n",
      " 19  inward_issue_relates           2009 non-null   int32  \n",
      " 20  outward_issue_columns_Blocks   2009 non-null   int32  \n",
      " 21  outward_issue_columns_Cloners  2009 non-null   int32  \n",
      " 22  outward_issue_columns_Problem  2009 non-null   int32  \n",
      " 23  outward_issue_columns_Relates  2009 non-null   int32  \n",
      "dtypes: float64(3), int32(8), int64(1), object(12)\n",
      "memory usage: 314.0+ KB\n"
     ]
    }
   ],
   "source": [
    "df.info()"
   ]
  },
  {
   "cell_type": "code",
   "execution_count": 80,
   "id": "e4da8a24-bd89-4364-add5-710234b6ce98",
   "metadata": {},
   "outputs": [],
   "source": [
    "df['Created']=pd.to_datetime(df['Created'])\n"
   ]
  },
  {
   "cell_type": "code",
   "execution_count": 81,
   "id": "286a1cb7-25ee-42e8-943f-f9e84916e721",
   "metadata": {},
   "outputs": [
    {
     "name": "stdout",
     "output_type": "stream",
     "text": [
      "<class 'pandas.core.frame.DataFrame'>\n",
      "RangeIndex: 2009 entries, 0 to 2008\n",
      "Data columns (total 24 columns):\n",
      " #   Column                         Non-Null Count  Dtype         \n",
      "---  ------                         --------------  -----         \n",
      " 0   Issue key                      2009 non-null   object        \n",
      " 1   Issue id                       2009 non-null   int64         \n",
      " 2   Issue Type                     2009 non-null   object        \n",
      " 3   Project name                   2009 non-null   object        \n",
      " 4   Project lead                   2009 non-null   object        \n",
      " 5   Priority                       2009 non-null   object        \n",
      " 6   Assignee                       1913 non-null   object        \n",
      " 7   Reporter                       2009 non-null   object        \n",
      " 8   Due date                       277 non-null    datetime64[ns]\n",
      " 9   Description                    1345 non-null   object        \n",
      " 10  Original estimate              1024 non-null   float64       \n",
      " 11  Remaining Estimate             1725 non-null   float64       \n",
      " 12  Time Spent                     1660 non-null   float64       \n",
      " 13  Status Category                2009 non-null   object        \n",
      " 14  Status Category Changed        2009 non-null   object        \n",
      " 15  Created                        2009 non-null   datetime64[ns]\n",
      " 16  inward_issue_block             2009 non-null   int32         \n",
      " 17  inward_issue_clone             2009 non-null   int32         \n",
      " 18  inward_issue_polaris           2009 non-null   int32         \n",
      " 19  inward_issue_relates           2009 non-null   int32         \n",
      " 20  outward_issue_columns_Blocks   2009 non-null   int32         \n",
      " 21  outward_issue_columns_Cloners  2009 non-null   int32         \n",
      " 22  outward_issue_columns_Problem  2009 non-null   int32         \n",
      " 23  outward_issue_columns_Relates  2009 non-null   int32         \n",
      "dtypes: datetime64[ns](2), float64(3), int32(8), int64(1), object(10)\n",
      "memory usage: 314.0+ KB\n"
     ]
    }
   ],
   "source": [
    "df.info()"
   ]
  },
  {
   "cell_type": "code",
   "execution_count": 77,
   "id": "633ab5c4-bcbb-40b3-885b-59f73af25f44",
   "metadata": {},
   "outputs": [
    {
     "name": "stderr",
     "output_type": "stream",
     "text": [
      "C:\\Users\\BIT\\AppData\\Local\\Temp\\ipykernel_25708\\695038986.py:1: UserWarning: Could not infer format, so each element will be parsed individually, falling back to `dateutil`. To ensure parsing is consistent and as-expected, please specify a format.\n",
      "  df['Due date']=pd.to_datetime(df['Due date'] ,  dayfirst=True, errors='coerce')\n"
     ]
    }
   ],
   "source": [
    "df['Due date']=pd.to_datetime(df['Due date'] ,  dayfirst=True, errors='coerce')"
   ]
  },
  {
   "cell_type": "code",
   "execution_count": 78,
   "id": "78080c15-9c71-4f07-8d70-4666fb7647a1",
   "metadata": {},
   "outputs": [
    {
     "name": "stdout",
     "output_type": "stream",
     "text": [
      "<class 'pandas.core.frame.DataFrame'>\n",
      "RangeIndex: 2009 entries, 0 to 2008\n",
      "Data columns (total 24 columns):\n",
      " #   Column                         Non-Null Count  Dtype         \n",
      "---  ------                         --------------  -----         \n",
      " 0   Issue key                      2009 non-null   object        \n",
      " 1   Issue id                       2009 non-null   int64         \n",
      " 2   Issue Type                     2009 non-null   object        \n",
      " 3   Project name                   2009 non-null   object        \n",
      " 4   Project lead                   2009 non-null   object        \n",
      " 5   Priority                       2009 non-null   object        \n",
      " 6   Assignee                       1913 non-null   object        \n",
      " 7   Reporter                       2009 non-null   object        \n",
      " 8   Due date                       277 non-null    datetime64[ns]\n",
      " 9   Description                    1345 non-null   object        \n",
      " 10  Original estimate              1024 non-null   float64       \n",
      " 11  Remaining Estimate             1725 non-null   float64       \n",
      " 12  Time Spent                     1660 non-null   float64       \n",
      " 13  Status Category                2009 non-null   object        \n",
      " 14  Status Category Changed        2009 non-null   object        \n",
      " 15  Created                        2009 non-null   datetime64[ns]\n",
      " 16  inward_issue_block             2009 non-null   int32         \n",
      " 17  inward_issue_clone             2009 non-null   int32         \n",
      " 18  inward_issue_polaris           2009 non-null   int32         \n",
      " 19  inward_issue_relates           2009 non-null   int32         \n",
      " 20  outward_issue_columns_Blocks   2009 non-null   int32         \n",
      " 21  outward_issue_columns_Cloners  2009 non-null   int32         \n",
      " 22  outward_issue_columns_Problem  2009 non-null   int32         \n",
      " 23  outward_issue_columns_Relates  2009 non-null   int32         \n",
      "dtypes: datetime64[ns](2), float64(3), int32(8), int64(1), object(10)\n",
      "memory usage: 314.0+ KB\n"
     ]
    }
   ],
   "source": [
    "df.info()"
   ]
  },
  {
   "cell_type": "code",
   "execution_count": 82,
   "id": "653dc47e-fb71-4670-897e-fa48ebe79ebb",
   "metadata": {},
   "outputs": [
    {
     "data": {
      "text/plain": [
       "<bound method Series.unique of 0             NaT\n",
       "1      2025-06-11\n",
       "2      2025-06-04\n",
       "3      2025-05-30\n",
       "4             NaT\n",
       "          ...    \n",
       "2004          NaT\n",
       "2005          NaT\n",
       "2006          NaT\n",
       "2007          NaT\n",
       "2008          NaT\n",
       "Name: Due date, Length: 2009, dtype: datetime64[ns]>"
      ]
     },
     "execution_count": 82,
     "metadata": {},
     "output_type": "execute_result"
    }
   ],
   "source": [
    "df1['Due date'].unique"
   ]
  },
  {
   "cell_type": "code",
   "execution_count": 83,
   "id": "7001942a-41af-42d1-9e61-29be2b2afbbd",
   "metadata": {},
   "outputs": [],
   "source": [
    "def random_may_june_date():\n",
    "    while True:\n",
    "        month = random.choice([5, 6])  # May or June\n",
    "        day = random.randint(1, 31 if month == 5 else 30)  # Max days\n",
    "        try:\n",
    "            return datetime(2025, month, day).strftime('%Y-%m-%d')\n",
    "        except ValueError:\n",
    "            continue  # Skip invalid dates like June 31\n",
    "\n",
    "# Step 3: Fill missing values in \"Due date\"\n",
    "df1['Due date'] = df['Due date'].fillna(lambda: random_may_june_date())"
   ]
  },
  {
   "cell_type": "code",
   "execution_count": 84,
   "id": "7224ea57-2200-480e-bb68-5590142841cf",
   "metadata": {},
   "outputs": [
    {
     "data": {
      "text/plain": [
       "<bound method Series.unique of 0       <function <lambda> at 0x00000198D6CA62A0>\n",
       "1                             2025-06-11 00:00:00\n",
       "2                             2025-06-04 00:00:00\n",
       "3                             2025-05-30 00:00:00\n",
       "4       <function <lambda> at 0x00000198D6CA62A0>\n",
       "                          ...                    \n",
       "2004    <function <lambda> at 0x00000198D6CA62A0>\n",
       "2005    <function <lambda> at 0x00000198D6CA62A0>\n",
       "2006    <function <lambda> at 0x00000198D6CA62A0>\n",
       "2007    <function <lambda> at 0x00000198D6CA62A0>\n",
       "2008    <function <lambda> at 0x00000198D6CA62A0>\n",
       "Name: Due date, Length: 2009, dtype: object>"
      ]
     },
     "execution_count": 84,
     "metadata": {},
     "output_type": "execute_result"
    }
   ],
   "source": [
    "df1['Due date'].unique"
   ]
  },
  {
   "cell_type": "code",
   "execution_count": 90,
   "id": "c46cc539-6fd7-4b5c-a5ba-4c3bc206e966",
   "metadata": {},
   "outputs": [
    {
     "name": "stdout",
     "output_type": "stream",
     "text": [
      "✅ Successfully filled missing due dates and saved to Modified_Jira_Export_Filled_Final.csv\n"
     ]
    }
   ],
   "source": [
    "import pandas as pd\n",
    "import random\n",
    "from datetime import datetime\n",
    "\n",
    "# Step 1: Load CSV\n",
    "df = pd.read_csv('C:\\\\Users\\\\BIT\\\\Downloads\\\\Modified_Jira_Export_Filled.csv')\n",
    "\n",
    "# Step 2: Function to generate random May/June 2025 date\n",
    "def random_may_june_date():\n",
    "    while True:\n",
    "        month = random.choice([5, 6])\n",
    "        day = random.randint(1, 31 if month == 5 else 30)\n",
    "        try:\n",
    "            return datetime(2025, month, day).strftime('%Y-%m-%d')\n",
    "        except ValueError:\n",
    "            continue\n",
    "\n",
    "# Step 3: Identify missing values in 'Due date'\n",
    "mask = df['Due date'].isna()\n",
    "\n",
    "# Step 4: Fill missing values with random dates\n",
    "df.loc[mask, 'Due date'] = [random_may_june_date() for _ in range(mask.sum())]\n",
    "\n",
    "# Step 5: Save the updated file\n",
    "df.to_csv(\"Modified_Jira_Export_Filled_Final.csv\", index=False)\n",
    "print(\"✅ Successfully filled missing due dates and saved to Modified_Jira_Export_Filled_Final.csv\")\n"
   ]
  },
  {
   "cell_type": "code",
   "execution_count": 89,
   "id": "d127f732-d586-4eaa-83ba-fcd67eb8d5f9",
   "metadata": {},
   "outputs": [
    {
     "data": {
      "text/plain": [
       "<bound method Series.unique of 0       <function <lambda> at 0x7eee8b9024f0>\n",
       "1                            11-06-2025 00:00\n",
       "2                            04-06-2025 00:00\n",
       "3                            30-05-2025 00:00\n",
       "4       <function <lambda> at 0x7eee8b9024f0>\n",
       "                        ...                  \n",
       "2004    <function <lambda> at 0x7eee8b9024f0>\n",
       "2005    <function <lambda> at 0x7eee8b9024f0>\n",
       "2006    <function <lambda> at 0x7eee8b9024f0>\n",
       "2007    <function <lambda> at 0x7eee8b9024f0>\n",
       "2008    <function <lambda> at 0x7eee8b9024f0>\n",
       "Name: Due date, Length: 2009, dtype: object>"
      ]
     },
     "execution_count": 89,
     "metadata": {},
     "output_type": "execute_result"
    }
   ],
   "source": [
    "df2['Due date'].unique"
   ]
  },
  {
   "cell_type": "code",
   "execution_count": null,
   "id": "5c4e7f9e-bf7d-4c0a-aea4-fbe59dc1923c",
   "metadata": {},
   "outputs": [],
   "source": []
  }
 ],
 "metadata": {
  "kernelspec": {
   "display_name": "Python 3 (ipykernel)",
   "language": "python",
   "name": "python3"
  },
  "language_info": {
   "codemirror_mode": {
    "name": "ipython",
    "version": 3
   },
   "file_extension": ".py",
   "mimetype": "text/x-python",
   "name": "python",
   "nbconvert_exporter": "python",
   "pygments_lexer": "ipython3",
   "version": "3.12.4"
  }
 },
 "nbformat": 4,
 "nbformat_minor": 5
}
