{
 "cells": [
  {
   "cell_type": "code",
   "execution_count": 1,
   "id": "7d54be9c-43e8-4bdd-9fce-92851a39741b",
   "metadata": {},
   "outputs": [
    {
     "name": "stdout",
     "output_type": "stream",
     "text": [
      "Processed dataset saved to: C:\\Users\\BIT\\OneDrive\\Desktop\\FINAL_DATA_JIRA_Processed.csv\n"
     ]
    }
   ],
   "source": [
    "import pandas as pd\n",
    "from sqlalchemy import create_engine  # You have it, but not used here\n",
    "\n",
    "# Load your original CSV\n",
    "df = pd.read_csv('C:\\\\Users\\\\BIT\\\\OneDrive\\\\Desktop\\\\FINAL DATA JIRA.csv')\n",
    "\n",
    "# Create the 'inward_problem' column\n",
    "inward_cols = [col for col in df.columns if col.startswith('Inward')]\n",
    "df['inward_problem'] = df[inward_cols].notnull().any(axis=1).astype(int)\n",
    "\n",
    "# Create the 'outward_problem' column\n",
    "outward_cols = [col for col in df.columns if col.startswith('Outward')]\n",
    "df['outward_problem'] = df[outward_cols].notnull().any(axis=1).astype(int)\n",
    "\n",
    "# Select desired columns\n",
    "df = df[['Issue key', 'Issue id', 'Issue Type', 'Project name', 'Project lead',\n",
    "         'Priority', 'Assignee', 'Reporter', 'Due date', 'Description',\n",
    "         'Original estimate', 'Time Spent', 'Status Category' ,'Created',\n",
    "         'inward_problem', 'outward_problem']]\n",
    "\n",
    "# Save to a new CSV file\n",
    "output_path = 'C:\\\\Users\\\\BIT\\\\OneDrive\\\\Desktop\\\\FINAL_DATA_JIRA_Processed.csv'\n",
    "df.to_csv(output_path, index=False)\n",
    "\n",
    "print(f\"Processed dataset saved to: {output_path}\")\n"
   ]
  },
  {
   "cell_type": "code",
   "execution_count": null,
   "id": "cdb360ab-1ac8-4dbe-bbbf-28de3c4d5cf4",
   "metadata": {},
   "outputs": [],
   "source": []
  }
 ],
 "metadata": {
  "kernelspec": {
   "display_name": "Python 3 (ipykernel)",
   "language": "python",
   "name": "python3"
  },
  "language_info": {
   "codemirror_mode": {
    "name": "ipython",
    "version": 3
   },
   "file_extension": ".py",
   "mimetype": "text/x-python",
   "name": "python",
   "nbconvert_exporter": "python",
   "pygments_lexer": "ipython3",
   "version": "3.12.4"
  }
 },
 "nbformat": 4,
 "nbformat_minor": 5
}
